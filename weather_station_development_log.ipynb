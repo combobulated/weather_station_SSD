{
 "cells": [
  {
   "cell_type": "markdown",
   "metadata": {},
   "source": [
    "# Weather Station SSD (Solid State Depot)\n",
    "\n",
    "\n",
    "\n"
   ]
  },
  {
   "cell_type": "markdown",
   "metadata": {},
   "source": [
    "### Project Description:\n",
    "\n",
    "SSD member Andrew has initiated a weather station project complete with Arduino controller and LCD display measuring and displaying:\n",
    "\n",
    "* Wind speed\n",
    "* Wind direction\n",
    "* Humidity\n",
    "* Rain rate\n",
    "\n",
    "The weather station is mounted on the SSD rooftop and data is piped down via a wire.\n",
    "\n",
    "\n",
    "#### Goals:\n",
    "\n",
    "The goal is further develop the weather station to transmit data to a local server and thus feed the \"weather under ground\" type on-line weather networks.  Weather station should also incorporate an IOT type interface for PDA access.\n",
    "\n",
    "\n",
    "#### Members\n",
    "\n",
    "\n",
    "* Andrew \n",
    "\n",
    "[//]: # (This syntax works like a comment, and won't appear in any output.)\n",
    "\n",
    "[//]: #  (  <img src=\"2019-07-11%2020.06.16.jpg\")\n",
    "[//]: #  (   alt=\"Team Lead Andrew\"  )\n",
    "[//]: #  (   style=\"float: left; margin-right: 10px;\" )\n",
    "[//]: #  (   /> )\n",
    "\n",
    "\n"
   ]
  },
  {
   "cell_type": "code",
   "execution_count": null,
   "metadata": {},
   "outputs": [],
   "source": []
  }
 ],
 "metadata": {
  "kernelspec": {
   "display_name": "Python 3",
   "language": "python",
   "name": "python3"
  },
  "language_info": {
   "codemirror_mode": {
    "name": "ipython",
    "version": 3
   },
   "file_extension": ".py",
   "mimetype": "text/x-python",
   "name": "python",
   "nbconvert_exporter": "python",
   "pygments_lexer": "ipython3",
   "version": "3.5.4"
  }
 },
 "nbformat": 4,
 "nbformat_minor": 2
}
